{
 "cells": [
  {
   "cell_type": "code",
   "execution_count": 7,
   "id": "e18dbad3",
   "metadata": {},
   "outputs": [],
   "source": [
    "# 수집한 영상을 이용해서 train\n",
    "import cv2\n",
    "import numpy as np\n",
    "import os, glob"
   ]
  },
  {
   "cell_type": "code",
   "execution_count": 8,
   "id": "65ff81a1",
   "metadata": {},
   "outputs": [],
   "source": [
    "base_dir = './faces/'\n",
    "train_data, train_labels = [],[]"
   ]
  },
  {
   "cell_type": "code",
   "execution_count": 9,
   "id": "266e1330",
   "metadata": {},
   "outputs": [
    {
     "data": {
      "text/plain": [
       "list"
      ]
     },
     "execution_count": 9,
     "metadata": {},
     "output_type": "execute_result"
    }
   ],
   "source": [
    "dir = glob.glob(base_dir+\"*\")\n",
    "type(dir)"
   ]
  },
  {
   "cell_type": "code",
   "execution_count": 10,
   "id": "4f99418e",
   "metadata": {},
   "outputs": [
    {
     "data": {
      "text/plain": [
       "['./faces\\\\leeky_0002', './faces\\\\leeky_001', './faces\\\\woman_001']"
      ]
     },
     "execution_count": 10,
     "metadata": {},
     "output_type": "execute_result"
    }
   ],
   "source": [
    " [ d for d in glob.glob(base_dir+\"*\") if os.path.isdir(d)]"
   ]
  },
  {
   "cell_type": "code",
   "execution_count": 11,
   "id": "813d5f00",
   "metadata": {},
   "outputs": [
    {
     "data": {
      "text/plain": [
       "list"
      ]
     },
     "execution_count": 11,
     "metadata": {},
     "output_type": "execute_result"
    }
   ],
   "source": [
    "dirs = [ d for d in glob.glob(base_dir+\"*\") if os.path.isdir(d)]\n",
    "type(dirs)"
   ]
  },
  {
   "cell_type": "code",
   "execution_count": 12,
   "id": "2ababfac",
   "metadata": {},
   "outputs": [
    {
     "name": "stdout",
     "output_type": "stream",
     "text": [
      "\t path:./faces\\leeky_0002, 100files\n",
      "\t path:./faces\\leeky_001, 0files\n",
      "\t path:./faces\\woman_001, 100files\n"
     ]
    }
   ],
   "source": [
    "for dir in dirs:\n",
    "    # id분리\n",
    "    id = dir.split('_')[1]\n",
    "    files = glob.glob(dir+\"/*.jpg\")\n",
    "    print('\\t path:%s, %dfiles'%(dir, len(files)))\n",
    "    for file in files:\n",
    "        img = cv2.imread(file,cv2.IMREAD_GRAYSCALE)\n",
    "        # 이미지를 train_data저장 아이디 train_lables\n",
    "        train_data.append(np.asarray(img, dtype = np.uint8))\n",
    "        train_labels.append(int(id))        "
   ]
  },
  {
   "cell_type": "code",
   "execution_count": 13,
   "id": "b14497be",
   "metadata": {},
   "outputs": [],
   "source": [
    "# numpy 배열로 변환\n",
    "train_data = np.asarray(train_data)\n",
    "train_labels = np.asarray(train_labels)"
   ]
  },
  {
   "cell_type": "code",
   "execution_count": 14,
   "id": "6483d3d6",
   "metadata": {},
   "outputs": [
    {
     "name": "stdout",
     "output_type": "stream",
     "text": [
      "starting LBP Model trainnig....\n",
      "Model trainning successfully\n"
     ]
    }
   ],
   "source": [
    "# LBP 얼굴 인식기 생성 훈련\n",
    "print('starting LBP Model trainnig....')\n",
    "model = cv2.face.LBPHFaceRecognizer_create()\n",
    "model.train(train_data,train_labels)\n",
    "model.write(base_dir+'/all_face.xml')\n",
    "print('Model trainning successfully')"
   ]
  },
  {
   "cell_type": "code",
   "execution_count": null,
   "id": "7e4bd760",
   "metadata": {},
   "outputs": [],
   "source": []
  }
 ],
 "metadata": {
  "kernelspec": {
   "display_name": "Python 3 (ipykernel)",
   "language": "python",
   "name": "python3"
  },
  "language_info": {
   "codemirror_mode": {
    "name": "ipython",
    "version": 3
   },
   "file_extension": ".py",
   "mimetype": "text/x-python",
   "name": "python",
   "nbconvert_exporter": "python",
   "pygments_lexer": "ipython3",
   "version": "3.9.7"
  }
 },
 "nbformat": 4,
 "nbformat_minor": 5
}
