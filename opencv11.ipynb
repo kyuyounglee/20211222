{
 "cells": [
  {
   "cell_type": "code",
   "execution_count": 16,
   "id": "d532c6d7",
   "metadata": {},
   "outputs": [],
   "source": [
    "import cv2\n",
    "import numpy as np\n",
    "import os, glob"
   ]
  },
  {
   "cell_type": "code",
   "execution_count": 17,
   "id": "0fd1f126",
   "metadata": {},
   "outputs": [],
   "source": [
    "base_dir = './faces'\n",
    "min_accuracy = 85\n",
    "\n",
    "# LBP \n",
    "face_classifier = cv2.CascadeClassifier(base_dir+'/haarcascade_frontalface_default.xml')\n",
    "model =  cv2.face.LBPHFaceRecognizer_create()\n",
    "model.read(os.path.join(base_dir,'all_face.xml'))"
   ]
  },
  {
   "cell_type": "code",
   "execution_count": 18,
   "id": "63c3c799",
   "metadata": {},
   "outputs": [],
   "source": [
    "# 디렉토리 이름으로 사용자 이름과 아이디 매핑정보 생성\n",
    "dirs = [d for d in glob.glob(base_dir+'/*') if os.path.isdir(d)]\n",
    "names = dict([])\n",
    "for dir in dirs:\n",
    "    dir = os.path.basename(dir)\n",
    "    name,id =  dir.split('_')\n",
    "    names[int(id)] = name    "
   ]
  },
  {
   "cell_type": "code",
   "execution_count": 19,
   "id": "f095b70d",
   "metadata": {},
   "outputs": [
    {
     "name": "stdout",
     "output_type": "stream",
     "text": [
      "no frame\n"
     ]
    }
   ],
   "source": [
    "# 카메라 준비\n",
    "cap =  cv2.VideoCapture(0)\n",
    "while cap.isOpened():\n",
    "    ret, frame =  cap.read()\n",
    "    if not ret:\n",
    "        print('no frame')\n",
    "        break\n",
    "    gray = cv2.cvtColor(frame, cv2.COLOR_BGR2BGRA)\n",
    "    # 얼굴 검출\n",
    "    faces =  face_classifier.detectMultiScale(gray, 1.3,5)\n",
    "    for(x,y,w,h) in faces:\n",
    "        # 얼굴영역표시 샘플과 같은 크기로 축소\n",
    "        cv2.rectangle(frame, (x,y),(x+w, y+h), (0,255,255),2)\n",
    "        face = frame[y:y+h, x:x+w]\n",
    "        face = cv2.resize(face, (200,200))\n",
    "        face = cv2.cvtColor(face, cv2.COLOR_BGR2GRAY)\n",
    "        # LBP 얼굴인식기로 예측\n",
    "        label,confidence =  model.predict(face)\n",
    "        if confidence < 400:\n",
    "            # 정확도 거리를 퍼센트로 변환\n",
    "            accuracy = int(100*(1-confidence/400))\n",
    "            if accuracy>= min_accuracy:\n",
    "                msg = '%s(%.0f%%)'%(names[label],accuracy)\n",
    "            else:\n",
    "                msg='Unknown'\n",
    "        #사용자 이름과 정화도 결과 출력\n",
    "        txt,base =  cv2.getTextSize(msg, cv2.FONT_HERSHEY_COMPLEX,1,3)\n",
    "        cv2.rectangle(frame, (x,y-base-txt[1]), (x+txt[0],y+txt[1]),(0,255,255),-1 )\n",
    "        cv2.putText(frame,msg,(x,y), cv2.FONT_HERSHEY_COMPLEX,1,(200,200,200),2,cv2.LINE_AA)\n",
    "    cv2.imshow('Face Reconition',frame)\n",
    "    if cv2.waitKey(1) == 27: # esc\n",
    "        break;\n",
    "cap.release()\n",
    "cv2.destroyAllWindows()\n",
    "    "
   ]
  },
  {
   "cell_type": "code",
   "execution_count": null,
   "id": "d5e71982",
   "metadata": {},
   "outputs": [],
   "source": []
  }
 ],
 "metadata": {
  "kernelspec": {
   "display_name": "Python 3 (ipykernel)",
   "language": "python",
   "name": "python3"
  },
  "language_info": {
   "codemirror_mode": {
    "name": "ipython",
    "version": 3
   },
   "file_extension": ".py",
   "mimetype": "text/x-python",
   "name": "python",
   "nbconvert_exporter": "python",
   "pygments_lexer": "ipython3",
   "version": "3.9.7"
  }
 },
 "nbformat": 4,
 "nbformat_minor": 5
}
