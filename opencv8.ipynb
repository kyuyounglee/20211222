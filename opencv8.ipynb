{
 "cells": [
  {
   "cell_type": "code",
   "execution_count": 1,
   "id": "a5a16e17",
   "metadata": {},
   "outputs": [],
   "source": [
    "# haarcascade_frontalface_default.xml"
   ]
  },
  {
   "cell_type": "code",
   "execution_count": 3,
   "id": "c0b26ce4",
   "metadata": {},
   "outputs": [],
   "source": [
    "import cv2\n",
    "# face_cascade = cv2.CascadeClassifier('D:/haarcascade_frontalface_default.xml')\n",
    "face_cascade = cv2.CascadeClassifier('./faces/all_face.xml')\n",
    "eye_cascade = cv2.CascadeClassifier('D:/haarcascade_eye.xml')"
   ]
  },
  {
   "cell_type": "code",
   "execution_count": 7,
   "id": "9a1bff7d",
   "metadata": {},
   "outputs": [],
   "source": [
    "cap = cv2.VideoCapture(0)\n",
    "while cap.isOpened():\n",
    "    ret, img =  cap.read()\n",
    "    if ret:\n",
    "        gray = cv2.cvtColor(img, cv2.COLOR_BGR2GRAY)\n",
    "        # 얼굴검출\n",
    "        face = face_cascade.detectMultiScale(gray, scaleFactor=1.3, minNeighbors=5, minSize=(80,80))\n",
    "        for(x,y,w,h) in face:\n",
    "            cv2.rectangle(img, (x,y), (x+w,y+h), (0,255,0),2)\n",
    "            roi = gray[y:y+h, x:x+w]\n",
    "            \n",
    "            # 눈 검출\n",
    "            eyes = eye_cascade.detectMultiScale(roi)\n",
    "            for i, (ex,ey,ew,eh) in enumerate(eyes):\n",
    "                if i >=2:\n",
    "                    break\n",
    "                cv2.rectangle(img[y:y+h, x:x+w], (ex,ey),(ex+ew, ey+eh), (255,0,0),2  )\n",
    "        cv2.imshow('face detect', img)\n",
    "    else:\n",
    "        break\n",
    "    if cv2.waitKey(5) == 27:    #  cv2.waitKey(0) & 0xFF  == 27\n",
    "        break\n",
    "cv2.destroyAllWindows()\n",
    "               \n",
    "            "
   ]
  },
  {
   "cell_type": "code",
   "execution_count": null,
   "id": "acbde92e",
   "metadata": {},
   "outputs": [],
   "source": []
  }
 ],
 "metadata": {
  "kernelspec": {
   "display_name": "Python 3 (ipykernel)",
   "language": "python",
   "name": "python3"
  },
  "language_info": {
   "codemirror_mode": {
    "name": "ipython",
    "version": 3
   },
   "file_extension": ".py",
   "mimetype": "text/x-python",
   "name": "python",
   "nbconvert_exporter": "python",
   "pygments_lexer": "ipython3",
   "version": "3.9.7"
  }
 },
 "nbformat": 4,
 "nbformat_minor": 5
}
